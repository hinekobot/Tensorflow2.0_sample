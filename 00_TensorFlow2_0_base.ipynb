{
  "nbformat": 4,
  "nbformat_minor": 0,
  "metadata": {
    "colab": {
      "name": "00_TensorFlow2.0_base.ipynb",
      "version": "0.3.2",
      "provenance": [],
      "collapsed_sections": [],
      "include_colab_link": true
    },
    "kernelspec": {
      "name": "python3",
      "display_name": "Python 3"
    }
  },
  "cells": [
    {
      "cell_type": "markdown",
      "metadata": {
        "id": "view-in-github",
        "colab_type": "text"
      },
      "source": [
        "<a href=\"https://colab.research.google.com/github/hinekobot/Tensorflow2.0_sample/blob/master/00_TensorFlow2_0_base.ipynb\" target=\"_parent\"><img src=\"https://colab.research.google.com/assets/colab-badge.svg\" alt=\"Open In Colab\"/></a>"
      ]
    },
    {
      "metadata": {
        "id": "BKFzkDG3J_2K",
        "colab_type": "text"
      },
      "cell_type": "markdown",
      "source": [
        "# Tensorflow2.0  \n",
        "- Google Colab上での操作を想定\n",
        "- cloneして中身を変える用の空ファイル"
      ]
    },
    {
      "metadata": {
        "id": "cv8wOCEOItVs",
        "colab_type": "code",
        "colab": {}
      },
      "cell_type": "code",
      "source": [
        "!pip install tensorflow==2.0.0-alpha0"
      ],
      "execution_count": 0,
      "outputs": []
    }
  ]
}