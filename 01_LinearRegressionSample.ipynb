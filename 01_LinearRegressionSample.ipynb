{
  "nbformat": 4,
  "nbformat_minor": 0,
  "metadata": {
    "colab": {
      "name": "00_TensorFlow2.0_base.ipynb",
      "version": "0.3.2",
      "provenance": [],
      "collapsed_sections": [],
      "include_colab_link": true
    },
    "kernelspec": {
      "name": "python3",
      "display_name": "Python 3"
    }
  },
  "cells": [
    {
      "cell_type": "markdown",
      "metadata": {
        "id": "view-in-github",
        "colab_type": "text"
      },
      "source": [
        "<a href=\"https://colab.research.google.com/github/hinekobot/Tensorflow2.0_sample/blob/master/01_LinearRegressionSample.ipynb\" target=\"_parent\"><img src=\"https://colab.research.google.com/assets/colab-badge.svg\" alt=\"Open In Colab\"/></a>"
      ]
    },
    {
      "metadata": {
        "id": "BKFzkDG3J_2K",
        "colab_type": "text"
      },
      "cell_type": "markdown",
      "source": [
        "# Tensorflow2.0  \n",
        "- Google Colab上での操作を想定\n",
        "- cloneして中身を変える用の空ファイル"
      ]
    },
    {
      "metadata": {
        "id": "cv8wOCEOItVs",
        "colab_type": "code",
        "outputId": "b04cd253-0c00-4a8c-9300-9a3fd084e5b0",
        "colab": {
          "base_uri": "https://localhost:8080/",
          "height": 684
        }
      },
      "cell_type": "code",
      "source": [
        "!pip install tensorflow==2.0.0-alpha0"
      ],
      "execution_count": 7,
      "outputs": [
        {
          "output_type": "stream",
          "text": [
            "Collecting tensorflow==2.0.0-alpha0\n",
            "\u001b[?25l  Downloading https://files.pythonhosted.org/packages/29/39/f99185d39131b8333afcfe1dcdb0629c2ffc4ecfb0e4c14ca210d620e56c/tensorflow-2.0.0a0-cp36-cp36m-manylinux1_x86_64.whl (79.9MB)\n",
            "\u001b[K    100% |████████████████████████████████| 79.9MB 458kB/s \n",
            "\u001b[?25hRequirement already satisfied: six>=1.10.0 in /usr/local/lib/python3.6/dist-packages (from tensorflow==2.0.0-alpha0) (1.11.0)\n",
            "Requirement already satisfied: keras-preprocessing>=1.0.5 in /usr/local/lib/python3.6/dist-packages (from tensorflow==2.0.0-alpha0) (1.0.9)\n",
            "Requirement already satisfied: absl-py>=0.7.0 in /usr/local/lib/python3.6/dist-packages (from tensorflow==2.0.0-alpha0) (0.7.1)\n",
            "Collecting tb-nightly<1.14.0a20190302,>=1.14.0a20190301 (from tensorflow==2.0.0-alpha0)\n",
            "\u001b[?25l  Downloading https://files.pythonhosted.org/packages/a9/51/aa1d756644bf4624c03844115e4ac4058eff77acd786b26315f051a4b195/tb_nightly-1.14.0a20190301-py3-none-any.whl (3.0MB)\n",
            "\u001b[K    100% |████████████████████████████████| 3.0MB 8.6MB/s \n",
            "\u001b[?25hRequirement already satisfied: termcolor>=1.1.0 in /usr/local/lib/python3.6/dist-packages (from tensorflow==2.0.0-alpha0) (1.1.0)\n",
            "Collecting google-pasta>=0.1.2 (from tensorflow==2.0.0-alpha0)\n",
            "\u001b[?25l  Downloading https://files.pythonhosted.org/packages/8c/96/adbd4eafe72ce9b5ca6f168fbf109386e1b601f7c59926a11e9d7b7a5b44/google_pasta-0.1.4-py3-none-any.whl (51kB)\n",
            "\u001b[K    100% |████████████████████████████████| 61kB 25.1MB/s \n",
            "\u001b[?25hRequirement already satisfied: grpcio>=1.8.6 in /usr/local/lib/python3.6/dist-packages (from tensorflow==2.0.0-alpha0) (1.15.0)\n",
            "Requirement already satisfied: protobuf>=3.6.1 in /usr/local/lib/python3.6/dist-packages (from tensorflow==2.0.0-alpha0) (3.7.1)\n",
            "Requirement already satisfied: wheel>=0.26 in /usr/local/lib/python3.6/dist-packages (from tensorflow==2.0.0-alpha0) (0.33.1)\n",
            "Requirement already satisfied: gast>=0.2.0 in /usr/local/lib/python3.6/dist-packages (from tensorflow==2.0.0-alpha0) (0.2.2)\n",
            "Requirement already satisfied: numpy<2.0,>=1.14.5 in /usr/local/lib/python3.6/dist-packages (from tensorflow==2.0.0-alpha0) (1.14.6)\n",
            "Requirement already satisfied: astor>=0.6.0 in /usr/local/lib/python3.6/dist-packages (from tensorflow==2.0.0-alpha0) (0.7.1)\n",
            "Requirement already satisfied: keras-applications>=1.0.6 in /usr/local/lib/python3.6/dist-packages (from tensorflow==2.0.0-alpha0) (1.0.7)\n",
            "Collecting tf-estimator-nightly<1.14.0.dev2019030116,>=1.14.0.dev2019030115 (from tensorflow==2.0.0-alpha0)\n",
            "\u001b[?25l  Downloading https://files.pythonhosted.org/packages/13/82/f16063b4eed210dc2ab057930ac1da4fbe1e91b7b051a6c8370b401e6ae7/tf_estimator_nightly-1.14.0.dev2019030115-py2.py3-none-any.whl (411kB)\n",
            "\u001b[K    100% |████████████████████████████████| 419kB 18.5MB/s \n",
            "\u001b[?25hRequirement already satisfied: werkzeug>=0.11.15 in /usr/local/lib/python3.6/dist-packages (from tb-nightly<1.14.0a20190302,>=1.14.0a20190301->tensorflow==2.0.0-alpha0) (0.15.1)\n",
            "Requirement already satisfied: markdown>=2.6.8 in /usr/local/lib/python3.6/dist-packages (from tb-nightly<1.14.0a20190302,>=1.14.0a20190301->tensorflow==2.0.0-alpha0) (3.1)\n",
            "Requirement already satisfied: setuptools in /usr/local/lib/python3.6/dist-packages (from protobuf>=3.6.1->tensorflow==2.0.0-alpha0) (40.8.0)\n",
            "Requirement already satisfied: h5py in /usr/local/lib/python3.6/dist-packages (from keras-applications>=1.0.6->tensorflow==2.0.0-alpha0) (2.8.0)\n",
            "Installing collected packages: tb-nightly, google-pasta, tf-estimator-nightly, tensorflow\n",
            "  Found existing installation: tensorflow 1.13.1\n",
            "    Uninstalling tensorflow-1.13.1:\n",
            "      Successfully uninstalled tensorflow-1.13.1\n",
            "Successfully installed google-pasta-0.1.4 tb-nightly-1.14.0a20190301 tensorflow-2.0.0a0 tf-estimator-nightly-1.14.0.dev2019030115\n"
          ],
          "name": "stdout"
        },
        {
          "output_type": "display_data",
          "data": {
            "application/vnd.colab-display-data+json": {
              "pip_warning": {
                "packages": [
                  "tensorflow",
                  "tensorflow_estimator"
                ]
              }
            }
          },
          "metadata": {
            "tags": []
          }
        }
      ]
    },
    {
      "metadata": {
        "id": "Rd7kG961V1Hv",
        "colab_type": "code",
        "colab": {
          "base_uri": "https://localhost:8080/",
          "height": 34
        },
        "outputId": "cfcffc58-6118-416e-e303-7a8eb4c91fea"
      },
      "cell_type": "code",
      "source": [
        "import tensorflow as tf\n",
        "tf.version.VERSION"
      ],
      "execution_count": 1,
      "outputs": [
        {
          "output_type": "execute_result",
          "data": {
            "text/plain": [
              "'2.0.0-alpha0'"
            ]
          },
          "metadata": {
            "tags": []
          },
          "execution_count": 1
        }
      ]
    },
    {
      "metadata": {
        "id": "At1x_1i6ST2B",
        "colab_type": "code",
        "colab": {}
      },
      "cell_type": "code",
      "source": [
        "import tensorflow as tf\n",
        "\n",
        "x = tf.Variable(3, name='x')\n",
        "y = tf.Variable(4, name='y')\n",
        "f = x*x*y + y +2\n"
      ],
      "execution_count": 0,
      "outputs": []
    },
    {
      "metadata": {
        "id": "HiwKFLgRVijd",
        "colab_type": "text"
      },
      "cell_type": "markdown",
      "source": [
        "## Linear Regression\n",
        "### by Using Normal Equation"
      ]
    },
    {
      "metadata": {
        "id": "65OkYpFyVdgw",
        "colab_type": "code",
        "colab": {
          "base_uri": "https://localhost:8080/",
          "height": 89
        },
        "outputId": "acf0218b-7d17-4fd9-b00d-eea8686d90c7"
      },
      "cell_type": "code",
      "source": [
        "import numpy as np\n",
        "from sklearn.datasets import fetch_california_housing\n",
        "\n",
        "housing = fetch_california_housing()\n",
        "m, n = housing.data.shape\n",
        "housing_data_plus_bias = np.c_[np.ones((m, 1)), housing.data]\n",
        "\n",
        "X = tf.constant(housing_data_plus_bias, dtype=tf.float32, name='X')\n",
        "y = tf.constant(housing.target.reshape(-1,1), dtype=tf.float32, name='y')\n",
        "XT = tf.transpose(X)\n",
        "#theta = tf.matmul(tf.matmul(tf.matrix_inverse(ft.matmul(XT, X)), XT), y)\n",
        "theta = tf.matmul(tf.matmul(tf.linalg.inv(tf.matmul(XT, X)), XT), y)"
      ],
      "execution_count": 8,
      "outputs": [
        {
          "output_type": "stream",
          "text": [
            "Downloading Cal. housing from https://ndownloader.figshare.com/files/5976036 to /root/scikit_learn_data\n",
            "WARNING: Logging before flag parsing goes to stderr.\n",
            "I0401 00:55:29.908049 139903384319872 california_housing.py:114] Downloading Cal. housing from https://ndownloader.figshare.com/files/5976036 to /root/scikit_learn_data\n"
          ],
          "name": "stderr"
        }
      ]
    },
    {
      "metadata": {
        "id": "NwMNHPDPXpzx",
        "colab_type": "code",
        "outputId": "fc410cbc-77aa-4038-cc8a-3999edba81eb",
        "colab": {
          "base_uri": "https://localhost:8080/",
          "height": 191
        }
      },
      "cell_type": "code",
      "source": [
        "theta"
      ],
      "execution_count": 9,
      "outputs": [
        {
          "output_type": "execute_result",
          "data": {
            "text/plain": [
              "<tf.Tensor: id=2724, shape=(9, 1), dtype=float32, numpy=\n",
              "array([[-3.7144665e+01],\n",
              "       [ 4.3637392e-01],\n",
              "       [ 9.3933418e-03],\n",
              "       [-1.0714764e-01],\n",
              "       [ 6.4542186e-01],\n",
              "       [-4.1016874e-06],\n",
              "       [-3.7816020e-03],\n",
              "       [-4.2341197e-01],\n",
              "       [-4.3682083e-01]], dtype=float32)>"
            ]
          },
          "metadata": {
            "tags": []
          },
          "execution_count": 9
        }
      ]
    },
    {
      "metadata": {
        "id": "6FttfSf--Jnc",
        "colab_type": "text"
      },
      "cell_type": "markdown",
      "source": [
        "### Linear Regression by Using Stochastic Descent\n",
        "- 解説書だと`tf.assign()`を使っているが、Tensorflow2.0では削除されている\n",
        "- 仕方ないのでループで計算させている"
      ]
    },
    {
      "metadata": {
        "id": "o9-HgyEIwjYB",
        "colab_type": "code",
        "colab": {}
      },
      "cell_type": "code",
      "source": [
        "from sklearn.preprocessing import MinMaxScaler,StandardScaler\n",
        "#scaler = StandardScaler()\n",
        "scaler = MinMaxScaler()\n",
        "\n",
        "scaled_housing_data_plus_bias = scaler.fit_transform(housing_data_plus_bias)"
      ],
      "execution_count": 0,
      "outputs": []
    },
    {
      "metadata": {
        "id": "XcIy7LoJvtLX",
        "colab_type": "code",
        "outputId": "8afca460-619a-47de-93b9-f95c22587606",
        "colab": {
          "base_uri": "https://localhost:8080/",
          "height": 191
        }
      },
      "cell_type": "code",
      "source": [
        "n_epochs = 1000\n",
        "learning_rate = 0.01\n",
        "\n",
        "X = tf.constant(scaled_housing_data_plus_bias, dtype=tf.float32, name='X')\n",
        "y = tf.constant(housing.target.reshape(-1,1), dtype=tf.float32, name='y')\n",
        "#theta = tf.Variable(tf.random_uniform([n + 1, 1], -1.0, 1.0), name='theta')\n",
        "theta = tf.Variable(tf.random.uniform([n + 1, 1], -1.0, 1.0), name='theta')\n",
        "y_pred = tf.matmul(X, theta, name='predictions')\n",
        "error = y_pred - y\n",
        "mse = tf.reduce_mean(tf.square(error), name='mse')\n",
        "gradients = 2/m * tf.matmul(tf.transpose(X), error)\n",
        "\n",
        "for epoch in range(n_epochs):\n",
        "  if epoch % 100 == 0:\n",
        "    print('Epoch', epoch, 'MSE=', mse.numpy())\n",
        "    \n",
        "  theta = theta - learning_rate * gradients\n",
        "  y_pred = tf.matmul(X, theta,name='theta')\n",
        "  error = y_pred - y\n",
        "  mse = tf.reduce_mean(tf.square(error),name='mse')\n",
        "  gradients = 2/m * tf.matmul(tf.transpose(X), error)\n",
        "\n",
        "best_theta = theta.numpy()"
      ],
      "execution_count": 11,
      "outputs": [
        {
          "output_type": "stream",
          "text": [
            "Epoch 0 MSE= 4.6538177\n",
            "Epoch 100 MSE= 1.6631339\n",
            "Epoch 200 MSE= 1.4238535\n",
            "Epoch 300 MSE= 1.3489833\n",
            "Epoch 400 MSE= 1.289773\n",
            "Epoch 500 MSE= 1.236963\n",
            "Epoch 600 MSE= 1.1893682\n",
            "Epoch 700 MSE= 1.1463536\n",
            "Epoch 800 MSE= 1.1073896\n",
            "Epoch 900 MSE= 1.0720185\n"
          ],
          "name": "stdout"
        }
      ]
    },
    {
      "metadata": {
        "id": "8JU8bTRfFhh7",
        "colab_type": "text"
      },
      "cell_type": "markdown",
      "source": [
        "### Linear Regression by Using Stochastic Descent: Auto differentiation\n",
        "- 解説書だと`tf.gradients`を使用しているが`egar execution`では使えない\n",
        "- `eager execution`では`tf.GradientTape()`を使用する\n",
        "  - `tape.watch()`で変数を監視する\n",
        "  - 監視しないとうまく動かない\n",
        "- 微分する変数をリストで渡す\n",
        "- 返り値(`gradients`)もリストになっている"
      ]
    },
    {
      "metadata": {
        "id": "zXCXwi2yJ3Ws",
        "colab_type": "code",
        "outputId": "e7b26274-faa6-4d9c-d748-6a43bcac4a93",
        "colab": {
          "base_uri": "https://localhost:8080/",
          "height": 191
        }
      },
      "cell_type": "code",
      "source": [
        "n_epochs = 1000\n",
        "learning_rate = 0.001\n",
        "\n",
        "X = tf.constant(scaled_housing_data_plus_bias, dtype=tf.float32, name='X')\n",
        "y = tf.constant(housing.target.reshape(-1,1), dtype=tf.float32, name='y')\n",
        "theta = tf.Variable(tf.random.uniform([n + 1, 1], -1.0, 1.0), name='theta')\n",
        "\n",
        "for epoch in range(n_epochs):\n",
        "  if epoch % 100 == 0:\n",
        "    print('Epoch', epoch, 'MSE=', mse.numpy())\n",
        "    \n",
        "  with tf.GradientTape() as g:\n",
        "    g.watch(theta)\n",
        "    y_pred = tf.matmul(X, theta,name='predictions')\n",
        "    error = y_pred - y\n",
        "    mse = tf.reduce_mean(tf.square(error),name='mse')\n",
        "\n",
        "  gradients = g.gradient(mse, [theta])\n",
        "  theta = theta - 0.01 * gradients[0]\n",
        "\n",
        "best_theta = theta.numpy()"
      ],
      "execution_count": 105,
      "outputs": [
        {
          "output_type": "stream",
          "text": [
            "Epoch 0 MSE= 0.9298671\n",
            "Epoch 100 MSE= 1.7388384\n",
            "Epoch 200 MSE= 1.431847\n",
            "Epoch 300 MSE= 1.363079\n",
            "Epoch 400 MSE= 1.3122017\n",
            "Epoch 500 MSE= 1.2661529\n",
            "Epoch 600 MSE= 1.2237885\n",
            "Epoch 700 MSE= 1.1847028\n",
            "Epoch 800 MSE= 1.1485779\n",
            "Epoch 900 MSE= 1.1151388\n"
          ],
          "name": "stdout"
        }
      ]
    },
    {
      "metadata": {
        "id": "vUITDaxssZAk",
        "colab_type": "text"
      },
      "cell_type": "markdown",
      "source": [
        "### Linear Regression by Using Stochastic Descent: Auto differentiation and optimizer\n"
      ]
    },
    {
      "metadata": {
        "id": "U7PtVGdOsqdz",
        "colab_type": "code",
        "colab": {
          "base_uri": "https://localhost:8080/",
          "height": 191
        },
        "outputId": "aa1d4edf-f689-4d05-8961-a0de7ae6e0a2"
      },
      "cell_type": "code",
      "source": [
        "n_epochs = 1000\n",
        "learning_rate = 0.001\n",
        "\n",
        "X = tf.constant(scaled_housing_data_plus_bias, dtype=tf.float32, name='X')\n",
        "y = tf.constant(housing.target.reshape(-1,1), dtype=tf.float32, name='y')\n",
        "theta = tf.Variable(tf.random.uniform([n + 1, 1], -1.0, 1.0), name='theta')\n",
        "optimizer = tf.optimizers.RMSprop(learning_rate=learning_rate)\n",
        "\n",
        "for epoch in range(n_epochs):\n",
        "  if epoch % 100 == 0:\n",
        "    print('Epoch', epoch, 'MSE=', mse.numpy())\n",
        "    \n",
        "  with tf.GradientTape() as g:\n",
        "    g.watch(theta)\n",
        "    y_pred = tf.matmul(X, theta,name='predictions')\n",
        "    error = y_pred - y\n",
        "    mse = tf.reduce_mean(tf.square(error),name='mse')\n",
        "\n",
        "  gradients = g.gradient(mse, [theta])\n",
        "  optimizer.apply_gradients(zip(gradients, [theta]))\n",
        "  #theta = theta - 0.01 * gradients[0]\n",
        "\n",
        "best_theta = theta.numpy()"
      ],
      "execution_count": 109,
      "outputs": [
        {
          "output_type": "stream",
          "text": [
            "Epoch 0 MSE= 1.5605302\n",
            "Epoch 100 MSE= 5.1014123\n",
            "Epoch 200 MSE= 4.4591217\n",
            "Epoch 300 MSE= 3.873743\n",
            "Epoch 400 MSE= 3.345227\n",
            "Epoch 500 MSE= 2.8735108\n",
            "Epoch 600 MSE= 2.45852\n",
            "Epoch 700 MSE= 2.1001532\n",
            "Epoch 800 MSE= 1.7982754\n",
            "Epoch 900 MSE= 1.5526927\n"
          ],
          "name": "stdout"
        }
      ]
    }
  ]
}