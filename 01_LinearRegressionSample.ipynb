{
  "nbformat": 4,
  "nbformat_minor": 0,
  "metadata": {
    "colab": {
      "name": "00_TensorFlow2.0_base.ipynb",
      "version": "0.3.2",
      "provenance": [],
      "collapsed_sections": [],
      "include_colab_link": true
    },
    "kernelspec": {
      "name": "python3",
      "display_name": "Python 3"
    }
  },
  "cells": [
    {
      "cell_type": "markdown",
      "metadata": {
        "id": "view-in-github",
        "colab_type": "text"
      },
      "source": [
        "<a href=\"https://colab.research.google.com/github/hinekobot/Tensorflow2.0_sample/blob/master/01_LinearRegressionSample.ipynb\" target=\"_parent\"><img src=\"https://colab.research.google.com/assets/colab-badge.svg\" alt=\"Open In Colab\"/></a>"
      ]
    },
    {
      "metadata": {
        "id": "BKFzkDG3J_2K",
        "colab_type": "text"
      },
      "cell_type": "markdown",
      "source": [
        "# Tensorflow2.0  \n",
        "- Google Colab上での操作を想定\n",
        "- cloneして中身を変える用の空ファイル"
      ]
    },
    {
      "metadata": {
        "id": "cv8wOCEOItVs",
        "colab_type": "code",
        "colab": {
          "base_uri": "https://localhost:8080/",
          "height": 593
        },
        "outputId": "0e13278c-ff0e-4b96-e5c7-cbdea7964911"
      },
      "cell_type": "code",
      "source": [
        "!pip install tensorflow==2.0.0-alpha0"
      ],
      "execution_count": 1,
      "outputs": [
        {
          "output_type": "stream",
          "text": [
            "Collecting tensorflow==2.0.0-alpha0\n",
            "\u001b[?25l  Downloading https://files.pythonhosted.org/packages/29/39/f99185d39131b8333afcfe1dcdb0629c2ffc4ecfb0e4c14ca210d620e56c/tensorflow-2.0.0a0-cp36-cp36m-manylinux1_x86_64.whl (79.9MB)\n",
            "\u001b[K    100% |████████████████████████████████| 79.9MB 423kB/s \n",
            "\u001b[?25hRequirement already satisfied: protobuf>=3.6.1 in /usr/local/lib/python3.6/dist-packages (from tensorflow==2.0.0-alpha0) (3.7.0)\n",
            "Requirement already satisfied: keras-preprocessing>=1.0.5 in /usr/local/lib/python3.6/dist-packages (from tensorflow==2.0.0-alpha0) (1.0.9)\n",
            "Collecting google-pasta>=0.1.2 (from tensorflow==2.0.0-alpha0)\n",
            "\u001b[?25l  Downloading https://files.pythonhosted.org/packages/8c/96/adbd4eafe72ce9b5ca6f168fbf109386e1b601f7c59926a11e9d7b7a5b44/google_pasta-0.1.4-py3-none-any.whl (51kB)\n",
            "\u001b[K    100% |████████████████████████████████| 61kB 21.9MB/s \n",
            "\u001b[?25hRequirement already satisfied: keras-applications>=1.0.6 in /usr/local/lib/python3.6/dist-packages (from tensorflow==2.0.0-alpha0) (1.0.7)\n",
            "Requirement already satisfied: wheel>=0.26 in /usr/local/lib/python3.6/dist-packages (from tensorflow==2.0.0-alpha0) (0.33.1)\n",
            "Requirement already satisfied: gast>=0.2.0 in /usr/local/lib/python3.6/dist-packages (from tensorflow==2.0.0-alpha0) (0.2.2)\n",
            "Requirement already satisfied: numpy<2.0,>=1.14.5 in /usr/local/lib/python3.6/dist-packages (from tensorflow==2.0.0-alpha0) (1.14.6)\n",
            "Collecting tb-nightly<1.14.0a20190302,>=1.14.0a20190301 (from tensorflow==2.0.0-alpha0)\n",
            "\u001b[?25l  Downloading https://files.pythonhosted.org/packages/a9/51/aa1d756644bf4624c03844115e4ac4058eff77acd786b26315f051a4b195/tb_nightly-1.14.0a20190301-py3-none-any.whl (3.0MB)\n",
            "\u001b[K    100% |████████████████████████████████| 3.0MB 9.9MB/s \n",
            "\u001b[?25hRequirement already satisfied: grpcio>=1.8.6 in /usr/local/lib/python3.6/dist-packages (from tensorflow==2.0.0-alpha0) (1.15.0)\n",
            "Requirement already satisfied: six>=1.10.0 in /usr/local/lib/python3.6/dist-packages (from tensorflow==2.0.0-alpha0) (1.11.0)\n",
            "Requirement already satisfied: termcolor>=1.1.0 in /usr/local/lib/python3.6/dist-packages (from tensorflow==2.0.0-alpha0) (1.1.0)\n",
            "Requirement already satisfied: astor>=0.6.0 in /usr/local/lib/python3.6/dist-packages (from tensorflow==2.0.0-alpha0) (0.7.1)\n",
            "Requirement already satisfied: absl-py>=0.7.0 in /usr/local/lib/python3.6/dist-packages (from tensorflow==2.0.0-alpha0) (0.7.1)\n",
            "Collecting tf-estimator-nightly<1.14.0.dev2019030116,>=1.14.0.dev2019030115 (from tensorflow==2.0.0-alpha0)\n",
            "\u001b[?25l  Downloading https://files.pythonhosted.org/packages/13/82/f16063b4eed210dc2ab057930ac1da4fbe1e91b7b051a6c8370b401e6ae7/tf_estimator_nightly-1.14.0.dev2019030115-py2.py3-none-any.whl (411kB)\n",
            "\u001b[K    100% |████████████████████████████████| 419kB 20.6MB/s \n",
            "\u001b[?25hRequirement already satisfied: setuptools in /usr/local/lib/python3.6/dist-packages (from protobuf>=3.6.1->tensorflow==2.0.0-alpha0) (40.8.0)\n",
            "Requirement already satisfied: h5py in /usr/local/lib/python3.6/dist-packages (from keras-applications>=1.0.6->tensorflow==2.0.0-alpha0) (2.8.0)\n",
            "Requirement already satisfied: markdown>=2.6.8 in /usr/local/lib/python3.6/dist-packages (from tb-nightly<1.14.0a20190302,>=1.14.0a20190301->tensorflow==2.0.0-alpha0) (3.0.1)\n",
            "Requirement already satisfied: werkzeug>=0.11.15 in /usr/local/lib/python3.6/dist-packages (from tb-nightly<1.14.0a20190302,>=1.14.0a20190301->tensorflow==2.0.0-alpha0) (0.14.1)\n",
            "Installing collected packages: google-pasta, tb-nightly, tf-estimator-nightly, tensorflow\n",
            "  Found existing installation: tensorflow 1.13.1\n",
            "    Uninstalling tensorflow-1.13.1:\n",
            "      Successfully uninstalled tensorflow-1.13.1\n",
            "Successfully installed google-pasta-0.1.4 tb-nightly-1.14.0a20190301 tensorflow-2.0.0a0 tf-estimator-nightly-1.14.0.dev2019030115\n"
          ],
          "name": "stdout"
        }
      ]
    },
    {
      "metadata": {
        "id": "At1x_1i6ST2B",
        "colab_type": "code",
        "colab": {}
      },
      "cell_type": "code",
      "source": [
        "import tensorflow as tf\n",
        "\n",
        "x = tf.Variable(3, name='x')\n",
        "y = tf.Variable(4, name='y')\n",
        "f = x*x*y + y +2\n"
      ],
      "execution_count": 0,
      "outputs": []
    },
    {
      "metadata": {
        "id": "HiwKFLgRVijd",
        "colab_type": "text"
      },
      "cell_type": "markdown",
      "source": [
        "## Linear Regression\n",
        "### by Using Normal Equation"
      ]
    },
    {
      "metadata": {
        "id": "65OkYpFyVdgw",
        "colab_type": "code",
        "colab": {}
      },
      "cell_type": "code",
      "source": [
        "import numpy as np\n",
        "from sklearn.datasets import fetch_california_housing\n",
        "\n",
        "housing = fetch_california_housing()\n",
        "m, n = housing.data.shape\n",
        "housing_data_plus_bias = np.c_[np.ones((m, 1)), housing.data]\n",
        "\n",
        "X = tf.constant(housing_data_plus_bias, dtype=tf.float32, name='X')\n",
        "y = tf.constant(housing.target.reshape(-1,1), dtype=tf.float32, name='y')\n",
        "XT = tf.transpose(X)\n",
        "#theta = tf.matmul(tf.matmul(tf.matrix_inverse(ft.matmul(XT, X)), XT), y)\n",
        "theta = tf.matmul(tf.matmul(tf.linalg.inv(tf.matmul(XT, X)), XT), y)"
      ],
      "execution_count": 0,
      "outputs": []
    },
    {
      "metadata": {
        "id": "NwMNHPDPXpzx",
        "colab_type": "code",
        "colab": {
          "base_uri": "https://localhost:8080/",
          "height": 191
        },
        "outputId": "442abcc9-c33a-4efa-f3ad-f4563e3fd186"
      },
      "cell_type": "code",
      "source": [
        "theta"
      ],
      "execution_count": 18,
      "outputs": [
        {
          "output_type": "execute_result",
          "data": {
            "text/plain": [
              "<tf.Tensor: id=42, shape=(9, 1), dtype=float32, numpy=\n",
              "array([[-3.7144665e+01],\n",
              "       [ 4.3637392e-01],\n",
              "       [ 9.3933418e-03],\n",
              "       [-1.0714764e-01],\n",
              "       [ 6.4542186e-01],\n",
              "       [-4.1016874e-06],\n",
              "       [-3.7816020e-03],\n",
              "       [-4.2341197e-01],\n",
              "       [-4.3682083e-01]], dtype=float32)>"
            ]
          },
          "metadata": {
            "tags": []
          },
          "execution_count": 18
        }
      ]
    },
    {
      "metadata": {
        "id": "6FttfSf--Jnc",
        "colab_type": "text"
      },
      "cell_type": "markdown",
      "source": [
        "### Linear Regression by Using Stochastic Descent\n",
        "- 解説書だと`tf.assign()`を使っているが、Tensorflow2.0では削除されている\n",
        "- 仕方ないのでループで計算させている"
      ]
    },
    {
      "metadata": {
        "id": "o9-HgyEIwjYB",
        "colab_type": "code",
        "colab": {}
      },
      "cell_type": "code",
      "source": [
        "from sklearn.preprocessing import MinMaxScaler,StandardScaler\n",
        "#scaler = StandardScaler()\n",
        "scaler = MinMaxScaler()\n",
        "\n",
        "scaled_housing_data_plus_bias = scaler.fit_transform(housing_data_plus_bias)"
      ],
      "execution_count": 0,
      "outputs": []
    },
    {
      "metadata": {
        "id": "XcIy7LoJvtLX",
        "colab_type": "code",
        "colab": {
          "base_uri": "https://localhost:8080/",
          "height": 191
        },
        "outputId": "02fca790-009d-4a85-8de7-a0cf3be7be16"
      },
      "cell_type": "code",
      "source": [
        "n_epochs = 1000\n",
        "learning_rate = 0.01\n",
        "\n",
        "X = tf.constant(scaled_housing_data_plus_bias, dtype=tf.float32, name='X')\n",
        "y = tf.constant(housing.target.reshape(-1,1), dtype=tf.float32, name='y')\n",
        "#theta = tf.Variable(tf.random_uniform([n + 1, 1], -1.0, 1.0), name='theta')\n",
        "theta = tf.Variable(tf.random.uniform([n + 1, 1], -1.0, 1.0), name='theta')\n",
        "y_pred = tf.matmul(X, theta, name='predictions')\n",
        "error = y_pred - y\n",
        "mse = tf.reduce_mean(tf.square(error), name='mse')\n",
        "gradients = 2/m * tf.matmul(tf.transpose(X), error)\n",
        "\n",
        "for epoch in range(n_epochs):\n",
        "  if epoch % 100 == 0:\n",
        "    print('Epoch', epoch, 'MSE=', mse.numpy())\n",
        "    \n",
        "  theta = theta - learning_rate * gradients\n",
        "  y_pred = tf.matmul(X, theta,name='theta')\n",
        "  error = y_pred - y\n",
        "  mse = tf.reduce_mean(tf.square(error),name='mse')\n",
        "  gradients = 2/m * tf.matmul(tf.transpose(X), error)\n",
        "\n",
        "best_theta = theta.numpy()"
      ],
      "execution_count": 51,
      "outputs": [
        {
          "output_type": "stream",
          "text": [
            "Epoch 0 MSE= 6.105645\n",
            "Epoch 100 MSE= 1.481247\n",
            "Epoch 200 MSE= 1.1728331\n",
            "Epoch 300 MSE= 1.1158499\n",
            "Epoch 400 MSE= 1.0773189\n",
            "Epoch 500 MSE= 1.0433859\n",
            "Epoch 600 MSE= 1.0128089\n",
            "Epoch 700 MSE= 0.9851367\n",
            "Epoch 800 MSE= 0.96002233\n",
            "Epoch 900 MSE= 0.93716973\n"
          ],
          "name": "stdout"
        }
      ]
    },
    {
      "metadata": {
        "id": "8JU8bTRfFhh7",
        "colab_type": "text"
      },
      "cell_type": "markdown",
      "source": [
        "### Linear Regression by Using Stochastic Descent: Auto differentiation"
      ]
    },
    {
      "metadata": {
        "id": "zXCXwi2yJ3Ws",
        "colab_type": "code",
        "colab": {
          "base_uri": "https://localhost:8080/",
          "height": 240
        },
        "outputId": "8bacd0a2-6554-43d3-bc67-da830c81d015"
      },
      "cell_type": "code",
      "source": [
        "n_epochs = 1000\n",
        "learning_rate = 0.01\n",
        "\n",
        "X = tf.constant(scaled_housing_data_plus_bias, dtype=tf.float32, name='X')\n",
        "y = tf.constant(housing.target.reshape(-1,1), dtype=tf.float32, name='y')\n",
        "#theta = tf.Variable(tf.random_uniform([n + 1, 1], -1.0, 1.0), name='theta')\n",
        "theta = tf.Variable(tf.random.uniform([n + 1, 1], -1.0, 1.0), name='theta')\n",
        "y_pred = tf.matmul(X, theta, name='predictions')\n",
        "error = y_pred - y\n",
        "mse = tf.reduce_mean(tf.square(error), name='mse')\n",
        "#gradients = tf.gradients(mse, [theta])[0]\n",
        "gradients = tf.GradientTape(mse, [theta])[0]\n",
        "\n",
        "for epoch in range(n_epochs):\n",
        "  if epoch % 100 == 0:\n",
        "    print('Epoch', epoch, 'MSE=', mse.numpy())\n",
        "    \n",
        "  theta = theta - learning_rate * gradients\n",
        "  y_pred = tf.matmul(X, theta,name='theta')\n",
        "  error = y_pred - y\n",
        "  mse = tf.reduce_mean(tf.square(error),name='mse')\n",
        "  #   gradients = 2/m * tf.matmul(tf.transpose(X), error)\n",
        "  gradients = tf.GradientTape(mse, [theta])[0]\n",
        "\n",
        "best_theta = theta.numpy()"
      ],
      "execution_count": 54,
      "outputs": [
        {
          "output_type": "error",
          "ename": "TypeError",
          "evalue": "ignored",
          "traceback": [
            "\u001b[0;31m---------------------------------------------------------------------------\u001b[0m",
            "\u001b[0;31mTypeError\u001b[0m                                 Traceback (most recent call last)",
            "\u001b[0;32m<ipython-input-54-b9a3d0e5912b>\u001b[0m in \u001b[0;36m<module>\u001b[0;34m()\u001b[0m\n\u001b[1;32m     10\u001b[0m \u001b[0mmse\u001b[0m \u001b[0;34m=\u001b[0m \u001b[0mtf\u001b[0m\u001b[0;34m.\u001b[0m\u001b[0mreduce_mean\u001b[0m\u001b[0;34m(\u001b[0m\u001b[0mtf\u001b[0m\u001b[0;34m.\u001b[0m\u001b[0msquare\u001b[0m\u001b[0;34m(\u001b[0m\u001b[0merror\u001b[0m\u001b[0;34m)\u001b[0m\u001b[0;34m,\u001b[0m \u001b[0mname\u001b[0m\u001b[0;34m=\u001b[0m\u001b[0;34m'mse'\u001b[0m\u001b[0;34m)\u001b[0m\u001b[0;34m\u001b[0m\u001b[0;34m\u001b[0m\u001b[0m\n\u001b[1;32m     11\u001b[0m \u001b[0;31m#gradients = tf.gradients(mse, [theta])[0]\u001b[0m\u001b[0;34m\u001b[0m\u001b[0;34m\u001b[0m\u001b[0;34m\u001b[0m\u001b[0m\n\u001b[0;32m---> 12\u001b[0;31m \u001b[0mgradients\u001b[0m \u001b[0;34m=\u001b[0m \u001b[0mtf\u001b[0m\u001b[0;34m.\u001b[0m\u001b[0mGradientTape\u001b[0m\u001b[0;34m(\u001b[0m\u001b[0mmse\u001b[0m\u001b[0;34m,\u001b[0m \u001b[0;34m[\u001b[0m\u001b[0mtheta\u001b[0m\u001b[0;34m]\u001b[0m\u001b[0;34m)\u001b[0m\u001b[0;34m[\u001b[0m\u001b[0;36m0\u001b[0m\u001b[0;34m]\u001b[0m\u001b[0;34m\u001b[0m\u001b[0;34m\u001b[0m\u001b[0m\n\u001b[0m\u001b[1;32m     13\u001b[0m \u001b[0;34m\u001b[0m\u001b[0m\n\u001b[1;32m     14\u001b[0m \u001b[0;32mfor\u001b[0m \u001b[0mepoch\u001b[0m \u001b[0;32min\u001b[0m \u001b[0mrange\u001b[0m\u001b[0;34m(\u001b[0m\u001b[0mn_epochs\u001b[0m\u001b[0;34m)\u001b[0m\u001b[0;34m:\u001b[0m\u001b[0;34m\u001b[0m\u001b[0;34m\u001b[0m\u001b[0m\n",
            "\u001b[0;31mTypeError\u001b[0m: 'GradientTape' object does not support indexing"
          ]
        }
      ]
    }
  ]
}