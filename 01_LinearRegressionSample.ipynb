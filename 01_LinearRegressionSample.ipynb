{
  "nbformat": 4,
  "nbformat_minor": 0,
  "metadata": {
    "colab": {
      "name": "00_TensorFlow2.0_base.ipynb",
      "version": "0.3.2",
      "provenance": [],
      "collapsed_sections": [],
      "toc_visible": true,
      "include_colab_link": true
    },
    "kernelspec": {
      "name": "python3",
      "display_name": "Python 3"
    }
  },
  "cells": [
    {
      "cell_type": "markdown",
      "metadata": {
        "id": "view-in-github",
        "colab_type": "text"
      },
      "source": [
        "<a href=\"https://colab.research.google.com/github/hinekobot/Tensorflow2.0_sample/blob/master/01_LinearRegressionSample.ipynb\" target=\"_parent\"><img src=\"https://colab.research.google.com/assets/colab-badge.svg\" alt=\"Open In Colab\"/></a>"
      ]
    },
    {
      "metadata": {
        "id": "BKFzkDG3J_2K",
        "colab_type": "text"
      },
      "cell_type": "markdown",
      "source": [
        "# Tensorflow2.0  \n",
        "- \"Scikit-learnとTensorflowによる実践機械学習\"を参考\n",
        "- Chap.9を対象\n",
        "- Tensorflow2.0で実施した場合の変更点等を確認\n",
        "\n",
        "\n",
        "1. インストール\n",
        "1. 最初のグラフの作成とセッション内での実行\n",
        "  - Tensorflow2.0では`tf.Session()`が消滅\n",
        "  - 値や式を入力したらその場で実行される\n",
        "  - `.eval()`が消滅\n",
        "    - 値の取得は`.numpy()`で可能\n",
        "  - `tf.global_variables+initializer()`消滅\n",
        "  - `tf.InteractiveSession()`消滅\n",
        "1. グラフの管理\n",
        "  - `tf.get_default_graph()`消滅\n",
        "  - グラフの管理方法はどうなるか不明\n",
        "1. ノード値のライフサイクル\n",
        "  - `tf.Session()`が消滅しているので、この項目がどうなっているか不明\n",
        "1. Tensorflowによる線形回帰\n",
        "  - `tf.matrix_inverse()` -> `tf.linalg.inv()`に変更\n",
        "1. 勾配降下法の実装\n",
        "  - `tf.random_uniform()` -> `tf.randor.uniform()`に変更\n",
        "  - `tf.assign()`がeager modeでは使えないので素直にループを作成\n",
        "  - `tf.gradients()`がeager modeでは使えないので、`tf.GradientTape()`を使用する\n",
        "  - `tf.train`が消滅しているため解説書で使用している`GradientDescentOptimizer()`が使用できない\n",
        "\n",
        "1. 訓練アルゴリズムへのデータの供給\n",
        "  - `tf.placeholder()`消滅\n",
        "  - （現在確認中）\n",
        "1. モデルの保存と復元\n",
        "  - `tf.train.Saver()`消滅\n",
        "  - `tf.saved_model()`を使う？\n",
        "1. TensorBoardを使ったグラフと訓練曲線の可視化\n",
        "  - (確認中)\n",
        "1. 名前スコープ\n",
        "1. モジュール性\n",
        "1. 変数の共有"
      ]
    },
    {
      "metadata": {
        "id": "cv8wOCEOItVs",
        "colab_type": "code",
        "outputId": "e03b7f37-efb9-4697-f035-b980424b8c65",
        "colab": {
          "base_uri": "https://localhost:8080/",
          "height": 593
        }
      },
      "cell_type": "code",
      "source": [
        "!pip install tensorflow==2.0.0-alpha0"
      ],
      "execution_count": 1,
      "outputs": [
        {
          "output_type": "stream",
          "text": [
            "Collecting tensorflow==2.0.0-alpha0\n",
            "\u001b[?25l  Downloading https://files.pythonhosted.org/packages/29/39/f99185d39131b8333afcfe1dcdb0629c2ffc4ecfb0e4c14ca210d620e56c/tensorflow-2.0.0a0-cp36-cp36m-manylinux1_x86_64.whl (79.9MB)\n",
            "\u001b[K    100% |████████████████████████████████| 79.9MB 384kB/s \n",
            "\u001b[?25hRequirement already satisfied: keras-applications>=1.0.6 in /usr/local/lib/python3.6/dist-packages (from tensorflow==2.0.0-alpha0) (1.0.7)\n",
            "Requirement already satisfied: six>=1.10.0 in /usr/local/lib/python3.6/dist-packages (from tensorflow==2.0.0-alpha0) (1.11.0)\n",
            "Requirement already satisfied: numpy<2.0,>=1.14.5 in /usr/local/lib/python3.6/dist-packages (from tensorflow==2.0.0-alpha0) (1.14.6)\n",
            "Requirement already satisfied: keras-preprocessing>=1.0.5 in /usr/local/lib/python3.6/dist-packages (from tensorflow==2.0.0-alpha0) (1.0.9)\n",
            "Requirement already satisfied: protobuf>=3.6.1 in /usr/local/lib/python3.6/dist-packages (from tensorflow==2.0.0-alpha0) (3.7.1)\n",
            "Requirement already satisfied: grpcio>=1.8.6 in /usr/local/lib/python3.6/dist-packages (from tensorflow==2.0.0-alpha0) (1.15.0)\n",
            "Collecting tb-nightly<1.14.0a20190302,>=1.14.0a20190301 (from tensorflow==2.0.0-alpha0)\n",
            "\u001b[?25l  Downloading https://files.pythonhosted.org/packages/a9/51/aa1d756644bf4624c03844115e4ac4058eff77acd786b26315f051a4b195/tb_nightly-1.14.0a20190301-py3-none-any.whl (3.0MB)\n",
            "\u001b[K    100% |████████████████████████████████| 3.0MB 10.8MB/s \n",
            "\u001b[?25hRequirement already satisfied: wheel>=0.26 in /usr/local/lib/python3.6/dist-packages (from tensorflow==2.0.0-alpha0) (0.33.1)\n",
            "Collecting google-pasta>=0.1.2 (from tensorflow==2.0.0-alpha0)\n",
            "\u001b[?25l  Downloading https://files.pythonhosted.org/packages/8c/96/adbd4eafe72ce9b5ca6f168fbf109386e1b601f7c59926a11e9d7b7a5b44/google_pasta-0.1.4-py3-none-any.whl (51kB)\n",
            "\u001b[K    100% |████████████████████████████████| 61kB 25.7MB/s \n",
            "\u001b[?25hRequirement already satisfied: termcolor>=1.1.0 in /usr/local/lib/python3.6/dist-packages (from tensorflow==2.0.0-alpha0) (1.1.0)\n",
            "Requirement already satisfied: astor>=0.6.0 in /usr/local/lib/python3.6/dist-packages (from tensorflow==2.0.0-alpha0) (0.7.1)\n",
            "Requirement already satisfied: gast>=0.2.0 in /usr/local/lib/python3.6/dist-packages (from tensorflow==2.0.0-alpha0) (0.2.2)\n",
            "Requirement already satisfied: absl-py>=0.7.0 in /usr/local/lib/python3.6/dist-packages (from tensorflow==2.0.0-alpha0) (0.7.1)\n",
            "Collecting tf-estimator-nightly<1.14.0.dev2019030116,>=1.14.0.dev2019030115 (from tensorflow==2.0.0-alpha0)\n",
            "\u001b[?25l  Downloading https://files.pythonhosted.org/packages/13/82/f16063b4eed210dc2ab057930ac1da4fbe1e91b7b051a6c8370b401e6ae7/tf_estimator_nightly-1.14.0.dev2019030115-py2.py3-none-any.whl (411kB)\n",
            "\u001b[K    100% |████████████████████████████████| 419kB 22.5MB/s \n",
            "\u001b[?25hRequirement already satisfied: h5py in /usr/local/lib/python3.6/dist-packages (from keras-applications>=1.0.6->tensorflow==2.0.0-alpha0) (2.8.0)\n",
            "Requirement already satisfied: setuptools in /usr/local/lib/python3.6/dist-packages (from protobuf>=3.6.1->tensorflow==2.0.0-alpha0) (40.8.0)\n",
            "Requirement already satisfied: markdown>=2.6.8 in /usr/local/lib/python3.6/dist-packages (from tb-nightly<1.14.0a20190302,>=1.14.0a20190301->tensorflow==2.0.0-alpha0) (3.1)\n",
            "Requirement already satisfied: werkzeug>=0.11.15 in /usr/local/lib/python3.6/dist-packages (from tb-nightly<1.14.0a20190302,>=1.14.0a20190301->tensorflow==2.0.0-alpha0) (0.15.1)\n",
            "Installing collected packages: tb-nightly, google-pasta, tf-estimator-nightly, tensorflow\n",
            "  Found existing installation: tensorflow 1.13.1\n",
            "    Uninstalling tensorflow-1.13.1:\n",
            "      Successfully uninstalled tensorflow-1.13.1\n",
            "Successfully installed google-pasta-0.1.4 tb-nightly-1.14.0a20190301 tensorflow-2.0.0a0 tf-estimator-nightly-1.14.0.dev2019030115\n"
          ],
          "name": "stdout"
        }
      ]
    },
    {
      "metadata": {
        "id": "fJGtBqe7SOL8",
        "colab_type": "text"
      },
      "cell_type": "markdown",
      "source": [
        "### Check Version"
      ]
    },
    {
      "metadata": {
        "id": "Rd7kG961V1Hv",
        "colab_type": "code",
        "outputId": "eb2a4dfe-13f4-44ca-fc35-2fe80c76996b",
        "colab": {
          "base_uri": "https://localhost:8080/",
          "height": 34
        }
      },
      "cell_type": "code",
      "source": [
        "import tensorflow as tf\n",
        "tf.version.VERSION"
      ],
      "execution_count": 58,
      "outputs": [
        {
          "output_type": "execute_result",
          "data": {
            "text/plain": [
              "'2.0.0-alpha0'"
            ]
          },
          "metadata": {
            "tags": []
          },
          "execution_count": 58
        }
      ]
    },
    {
      "metadata": {
        "id": "NGxpksFESjTr",
        "colab_type": "text"
      },
      "cell_type": "markdown",
      "source": [
        "### Check Eager Execution\n",
        "- Tensorflow1.xと異なり、変数や式を定義した時点で計算される"
      ]
    },
    {
      "metadata": {
        "id": "At1x_1i6ST2B",
        "colab_type": "code",
        "outputId": "ed06d698-296c-4372-eb59-45fc5d949095",
        "colab": {
          "base_uri": "https://localhost:8080/",
          "height": 69
        }
      },
      "cell_type": "code",
      "source": [
        "import tensorflow as tf\n",
        "\n",
        "x = tf.Variable(3, name='x')\n",
        "y = tf.Variable(4, name='y')\n",
        "f = x*x*y + y +2\n",
        "\n",
        "print(x)\n",
        "print(y)\n",
        "print(f)"
      ],
      "execution_count": 57,
      "outputs": [
        {
          "output_type": "stream",
          "text": [
            "<tf.Variable 'x:0' shape=() dtype=int32, numpy=3>\n",
            "<tf.Variable 'y:0' shape=() dtype=int32, numpy=4>\n",
            "tf.Tensor(42, shape=(), dtype=int32)\n"
          ],
          "name": "stdout"
        }
      ]
    },
    {
      "metadata": {
        "id": "HiwKFLgRVijd",
        "colab_type": "text"
      },
      "cell_type": "markdown",
      "source": [
        "## Linear Regression\n",
        "### by Using Normal Equation"
      ]
    },
    {
      "metadata": {
        "id": "65OkYpFyVdgw",
        "colab_type": "code",
        "outputId": "ac9f58a1-4184-48cc-cc3b-c73fde5243d7",
        "colab": {
          "base_uri": "https://localhost:8080/",
          "height": 89
        }
      },
      "cell_type": "code",
      "source": [
        "import numpy as np\n",
        "from sklearn.datasets import fetch_california_housing\n",
        "\n",
        "housing = fetch_california_housing()\n",
        "m, n = housing.data.shape\n",
        "housing_data_plus_bias = np.c_[np.ones((m, 1)), housing.data]\n",
        "\n",
        "X = tf.constant(housing_data_plus_bias, dtype=tf.float32, name='X')\n",
        "y = tf.constant(housing.target.reshape(-1,1), dtype=tf.float32, name='y')\n",
        "XT = tf.transpose(X)\n",
        "\n",
        "theta = tf.matmul(tf.matmul(tf.linalg.inv(tf.matmul(XT, X)), XT), y)"
      ],
      "execution_count": 4,
      "outputs": [
        {
          "output_type": "stream",
          "text": [
            "Downloading Cal. housing from https://ndownloader.figshare.com/files/5976036 to /root/scikit_learn_data\n",
            "WARNING: Logging before flag parsing goes to stderr.\n",
            "I0402 01:16:53.843023 139621377148800 california_housing.py:114] Downloading Cal. housing from https://ndownloader.figshare.com/files/5976036 to /root/scikit_learn_data\n"
          ],
          "name": "stderr"
        }
      ]
    },
    {
      "metadata": {
        "id": "6FttfSf--Jnc",
        "colab_type": "text"
      },
      "cell_type": "markdown",
      "source": [
        "### Linear Regression by Using Stochastic Descent\n",
        "- 解説書だと`tf.assign()`を使っているが、Tensorflow2.0では削除されている\n",
        "- 仕方ないのでループで計算させている"
      ]
    },
    {
      "metadata": {
        "id": "o9-HgyEIwjYB",
        "colab_type": "code",
        "colab": {}
      },
      "cell_type": "code",
      "source": [
        "from sklearn.preprocessing import MinMaxScaler,StandardScaler\n",
        "#scaler = StandardScaler()\n",
        "scaler = MinMaxScaler()\n",
        "\n",
        "scaled_housing_data_plus_bias = scaler.fit_transform(housing_data_plus_bias)"
      ],
      "execution_count": 0,
      "outputs": []
    },
    {
      "metadata": {
        "id": "XcIy7LoJvtLX",
        "colab_type": "code",
        "outputId": "8afca460-619a-47de-93b9-f95c22587606",
        "colab": {
          "base_uri": "https://localhost:8080/",
          "height": 191
        }
      },
      "cell_type": "code",
      "source": [
        "n_epochs = 1000\n",
        "learning_rate = 0.01\n",
        "\n",
        "X = tf.constant(scaled_housing_data_plus_bias, dtype=tf.float32, name='X')\n",
        "y = tf.constant(housing.target.reshape(-1,1), dtype=tf.float32, name='y')\n",
        "#theta = tf.Variable(tf.random_uniform([n + 1, 1], -1.0, 1.0), name='theta')\n",
        "theta = tf.Variable(tf.random.uniform([n + 1, 1], -1.0, 1.0), name='theta')\n",
        "y_pred = tf.matmul(X, theta, name='predictions')\n",
        "error = y_pred - y\n",
        "mse = tf.reduce_mean(tf.square(error), name='mse')\n",
        "gradients = 2/m * tf.matmul(tf.transpose(X), error)\n",
        "\n",
        "for epoch in range(n_epochs):\n",
        "  if epoch % 100 == 0:\n",
        "    print('Epoch', epoch, 'MSE=', mse.numpy())\n",
        "    \n",
        "  theta = theta - learning_rate * gradients\n",
        "  y_pred = tf.matmul(X, theta,name='theta')\n",
        "  error = y_pred - y\n",
        "  mse = tf.reduce_mean(tf.square(error),name='mse')\n",
        "  gradients = 2/m * tf.matmul(tf.transpose(X), error)\n",
        "\n",
        "best_theta = theta.numpy()"
      ],
      "execution_count": 0,
      "outputs": [
        {
          "output_type": "stream",
          "text": [
            "Epoch 0 MSE= 4.6538177\n",
            "Epoch 100 MSE= 1.6631339\n",
            "Epoch 200 MSE= 1.4238535\n",
            "Epoch 300 MSE= 1.3489833\n",
            "Epoch 400 MSE= 1.289773\n",
            "Epoch 500 MSE= 1.236963\n",
            "Epoch 600 MSE= 1.1893682\n",
            "Epoch 700 MSE= 1.1463536\n",
            "Epoch 800 MSE= 1.1073896\n",
            "Epoch 900 MSE= 1.0720185\n"
          ],
          "name": "stdout"
        }
      ]
    },
    {
      "metadata": {
        "id": "8JU8bTRfFhh7",
        "colab_type": "text"
      },
      "cell_type": "markdown",
      "source": [
        "### Linear Regression by Using Stochastic Descent: Auto differentiation\n",
        "- 解説書だと`tf.gradients`を使用しているが`egar execution`では使えない\n",
        "- `eager execution`では`tf.GradientTape()`を使用する\n",
        "  - `tape.watch()`で変数を監視する\n",
        "  - 監視しないとうまく動かない\n",
        "- 微分する変数をリストで渡す\n",
        "- 返り値(`gradients`)もリストになっている"
      ]
    },
    {
      "metadata": {
        "id": "zXCXwi2yJ3Ws",
        "colab_type": "code",
        "outputId": "e7b26274-faa6-4d9c-d748-6a43bcac4a93",
        "colab": {
          "base_uri": "https://localhost:8080/",
          "height": 191
        }
      },
      "cell_type": "code",
      "source": [
        "n_epochs = 1000\n",
        "learning_rate = 0.001\n",
        "\n",
        "X = tf.constant(scaled_housing_data_plus_bias, dtype=tf.float32, name='X')\n",
        "y = tf.constant(housing.target.reshape(-1,1), dtype=tf.float32, name='y')\n",
        "theta = tf.Variable(tf.random.uniform([n + 1, 1], -1.0, 1.0), name='theta')\n",
        "\n",
        "for epoch in range(n_epochs):\n",
        "  if epoch % 100 == 0:\n",
        "    print('Epoch', epoch, 'MSE=', mse.numpy())\n",
        "    \n",
        "  with tf.GradientTape() as g:\n",
        "    g.watch(theta)\n",
        "    y_pred = tf.matmul(X, theta,name='predictions')\n",
        "    error = y_pred - y\n",
        "    mse = tf.reduce_mean(tf.square(error),name='mse')\n",
        "\n",
        "  gradients = g.gradient(mse, [theta])\n",
        "  theta = theta - 0.01 * gradients[0]\n",
        "\n",
        "best_theta = theta.numpy()"
      ],
      "execution_count": 0,
      "outputs": [
        {
          "output_type": "stream",
          "text": [
            "Epoch 0 MSE= 0.9298671\n",
            "Epoch 100 MSE= 1.7388384\n",
            "Epoch 200 MSE= 1.431847\n",
            "Epoch 300 MSE= 1.363079\n",
            "Epoch 400 MSE= 1.3122017\n",
            "Epoch 500 MSE= 1.2661529\n",
            "Epoch 600 MSE= 1.2237885\n",
            "Epoch 700 MSE= 1.1847028\n",
            "Epoch 800 MSE= 1.1485779\n",
            "Epoch 900 MSE= 1.1151388\n"
          ],
          "name": "stdout"
        }
      ]
    },
    {
      "metadata": {
        "id": "vUITDaxssZAk",
        "colab_type": "text"
      },
      "cell_type": "markdown",
      "source": [
        "### Linear Regression by Using Stochastic Descent: Auto differentiation and optimizer\n",
        "- optimizerを使って自動で変数(theta)が更新されるように\n",
        "- 解説書だと`GradientDescentOptimizer`を使っているが、`tf.optimizer`には存在しないため、`RMSprop`を使用"
      ]
    },
    {
      "metadata": {
        "id": "U7PtVGdOsqdz",
        "colab_type": "code",
        "outputId": "16957f3c-d2fb-46f1-f15c-c13ed8b95adf",
        "colab": {
          "base_uri": "https://localhost:8080/",
          "height": 191
        }
      },
      "cell_type": "code",
      "source": [
        "n_epochs = 1000\n",
        "learning_rate = 0.001\n",
        "\n",
        "X = tf.constant(scaled_housing_data_plus_bias, dtype=tf.float32, name='X')\n",
        "y = tf.constant(housing.target.reshape(-1,1), dtype=tf.float32, name='y')\n",
        "theta = tf.Variable(tf.random.uniform([n + 1, 1], -1.0, 1.0), name='theta')\n",
        "optimizer = tf.optimizers.RMSprop(learning_rate=learning_rate)\n",
        "\n",
        "for epoch in range(n_epochs):\n",
        "  if epoch % 100 == 0:\n",
        "    print('Epoch', epoch, 'MSE=', mse.numpy())\n",
        "    \n",
        "  with tf.GradientTape() as g:\n",
        "    g.watch(theta)\n",
        "    y_pred = tf.matmul(X, theta,name='predictions')\n",
        "    error = y_pred - y\n",
        "    mse = tf.reduce_mean(tf.square(error),name='mse')\n",
        "\n",
        "  gradients = g.gradient(mse, [theta])\n",
        "  optimizer.apply_gradients(zip(gradients, [theta]))\n",
        "\n",
        "best_theta = theta.numpy()"
      ],
      "execution_count": 0,
      "outputs": [
        {
          "output_type": "stream",
          "text": [
            "Epoch 0 MSE= 2.1197662\n",
            "Epoch 100 MSE= 4.097267\n",
            "Epoch 200 MSE= 3.577104\n",
            "Epoch 300 MSE= 3.113729\n",
            "Epoch 400 MSE= 2.7070603\n",
            "Epoch 500 MSE= 2.3569922\n",
            "Epoch 600 MSE= 2.0633788\n",
            "Epoch 700 MSE= 1.8260059\n",
            "Epoch 800 MSE= 1.6445318\n",
            "Epoch 900 MSE= 1.5183038\n"
          ],
          "name": "stdout"
        }
      ]
    },
    {
      "metadata": {
        "id": "-6f1LGTsqueb",
        "colab_type": "text"
      },
      "cell_type": "markdown",
      "source": [
        "### Check: tf.function()"
      ]
    },
    {
      "metadata": {
        "colab_type": "code",
        "outputId": "da6eed80-79c0-4019-828e-0eaf50c388c2",
        "id": "Y_-ifousqwdh",
        "colab": {
          "base_uri": "https://localhost:8080/",
          "height": 191
        }
      },
      "cell_type": "code",
      "source": [
        "n_epochs = 1000\n",
        "learning_rate = 0.001\n",
        "\n",
        "@tf.function\n",
        "def pred(X, theta):\n",
        "  return tf.matmul(X, theta, name='predictions')\n",
        "\n",
        "X = tf.constant(scaled_housing_data_plus_bias, dtype=tf.float32, name='X')\n",
        "y = tf.constant(housing.target.reshape(-1,1), dtype=tf.float32, name='y')\n",
        "theta = tf.Variable(tf.random.uniform([n + 1, 1], -1.0, 1.0), name='theta')\n",
        "optimizer = tf.optimizers.RMSprop(learning_rate=learning_rate)\n",
        "\n",
        "for epoch in range(n_epochs):\n",
        "  if epoch % 100 == 0:\n",
        "    print('Epoch', epoch, 'MSE=', mse.numpy())\n",
        "    \n",
        "  with tf.GradientTape() as g:\n",
        "    g.watch(theta)\n",
        "    #y_pred = tf.matmul(X, theta,name='predictions')\n",
        "    y_pred = pred(X, theta)\n",
        "    error = y_pred - y\n",
        "    mse = tf.reduce_mean(tf.square(error),name='mse')\n",
        "\n",
        "  gradients = g.gradient(mse, [theta])\n",
        "  optimizer.apply_gradients(zip(gradients, [theta]))\n",
        "\n",
        "best_theta = theta.numpy()"
      ],
      "execution_count": 0,
      "outputs": [
        {
          "output_type": "stream",
          "text": [
            "Epoch 0 MSE= 1.4453444\n",
            "Epoch 100 MSE= 5.184928\n",
            "Epoch 200 MSE= 4.546678\n",
            "Epoch 300 MSE= 3.9653354\n",
            "Epoch 400 MSE= 3.440847\n",
            "Epoch 500 MSE= 2.9731495\n",
            "Epoch 600 MSE= 2.5621629\n",
            "Epoch 700 MSE= 2.2077806\n",
            "Epoch 800 MSE= 1.9098576\n",
            "Epoch 900 MSE= 1.6681781\n"
          ],
          "name": "stdout"
        }
      ]
    },
    {
      "metadata": {
        "id": "E4Q0yFFso8SI",
        "colab_type": "text"
      },
      "cell_type": "markdown",
      "source": [
        "## TensorBoard"
      ]
    },
    {
      "metadata": {
        "id": "aK8Q455LpWsQ",
        "colab_type": "code",
        "colab": {}
      },
      "cell_type": "code",
      "source": [
        "!mkdir ./tf_logs"
      ],
      "execution_count": 0,
      "outputs": []
    },
    {
      "metadata": {
        "id": "_SCLOavEpA85",
        "colab_type": "code",
        "outputId": "84e9fef7-c9e1-43a5-f228-0d58d662e2a3",
        "colab": {
          "base_uri": "https://localhost:8080/",
          "height": 191
        }
      },
      "cell_type": "code",
      "source": [
        "from datetime import datetime as dt\n",
        "\n",
        "now = dt.utcnow().strftime('%Y%m%d%H%M%S')\n",
        "root_logdir = 'tf_logs'\n",
        "logdir = '{}/run-{}'.format(root_logdir,now)\n",
        "\n",
        "\n",
        "file_writer = tf.summary.create_file_writer(logdir)\n",
        "#mse_summary = tf.summary.scalar('MSE', mse)\n",
        "\n",
        "n_epochs = 1000\n",
        "learning_rate = 0.001\n",
        "\n",
        "@tf.function\n",
        "def pred(X, theta):\n",
        "  return tf.matmul(X, theta, name='predictions')\n",
        "\n",
        "X = tf.constant(scaled_housing_data_plus_bias, dtype=tf.float32, name='X')\n",
        "y = tf.constant(housing.target.reshape(-1,1), dtype=tf.float32, name='y')\n",
        "theta = tf.Variable(tf.random.uniform([n + 1, 1], -1.0, 1.0), name='theta')\n",
        "optimizer = tf.optimizers.RMSprop(learning_rate=learning_rate)\n",
        "\n",
        "for epoch in range(n_epochs):\n",
        "  with tf.GradientTape() as g:\n",
        "    g.watch(theta)\n",
        "    #y_pred = tf.matmul(X, theta,name='predictions')\n",
        "    y_pred = pred(X, theta)\n",
        "    error = y_pred - y\n",
        "    mse = tf.reduce_mean(tf.square(error),name='mse')\n",
        "\n",
        "  gradients = g.gradient(mse, [theta])\n",
        "  optimizer.apply_gradients(zip(gradients, [theta]))\n",
        "  with file_writer.as_default():\n",
        "    tf.summary.scalar('MSE', mse, step=epoch)\n",
        "  \n",
        "  if epoch % 100 == 0:\n",
        "    print('Epoch', epoch, 'MSE=', mse.numpy())\n",
        "    \n",
        "best_theta = theta.numpy()\n",
        "\n",
        "\n",
        "#file_writer.close()"
      ],
      "execution_count": 14,
      "outputs": [
        {
          "output_type": "stream",
          "text": [
            "Epoch 0 MSE= 7.4964085\n",
            "Epoch 100 MSE= 6.5972657\n",
            "Epoch 200 MSE= 5.833862\n",
            "Epoch 300 MSE= 5.127448\n",
            "Epoch 400 MSE= 4.4779935\n",
            "Epoch 500 MSE= 3.8854563\n",
            "Epoch 600 MSE= 3.349789\n",
            "Epoch 700 MSE= 2.8709302\n",
            "Epoch 800 MSE= 2.448808\n",
            "Epoch 900 MSE= 2.083325\n"
          ],
          "name": "stdout"
        }
      ]
    },
    {
      "metadata": {
        "id": "jTUwH5nr1AtD",
        "colab_type": "text"
      },
      "cell_type": "markdown",
      "source": [
        "### Install LocalTunnel\n",
        "- colabでTensorboardを実行するのに必要"
      ]
    },
    {
      "metadata": {
        "id": "uFMsDRyUv6v7",
        "colab_type": "code",
        "outputId": "1692477a-62cc-41ab-b416-01ed062b6814",
        "colab": {
          "base_uri": "https://localhost:8080/",
          "height": 69
        }
      },
      "cell_type": "code",
      "source": [
        "!npm install -g localtunnel"
      ],
      "execution_count": 9,
      "outputs": [
        {
          "output_type": "stream",
          "text": [
            "\u001b[K\u001b[?25h/tools/node/bin/lt -> /tools/node/lib/node_modules/localtunnel/bin/client\n",
            "+ localtunnel@1.9.1\n",
            "added 55 packages from 34 contributors in 4.17s\n"
          ],
          "name": "stdout"
        }
      ]
    },
    {
      "metadata": {
        "id": "HjcEa2082CJ8",
        "colab_type": "text"
      },
      "cell_type": "markdown",
      "source": [
        "### Call Tensorboard"
      ]
    },
    {
      "metadata": {
        "id": "eLDBwD9QwBLb",
        "colab_type": "code",
        "outputId": "75051fea-b14b-48fd-fe95-c30f3ecc6dde",
        "colab": {
          "base_uri": "https://localhost:8080/",
          "height": 34
        }
      },
      "cell_type": "code",
      "source": [
        "print(logdir)\n",
        "get_ipython().system_raw(\n",
        "  'tensorboard --logdir {} --host 0.0.0.0 --port 6007 &'.format(logdir)\n",
        ")\n",
        "get_ipython().system_raw('lt --port 6007 >> url.txt 2>&1 &')"
      ],
      "execution_count": 54,
      "outputs": [
        {
          "output_type": "stream",
          "text": [
            "tf_logs/run-20190402012004\n"
          ],
          "name": "stdout"
        }
      ]
    },
    {
      "metadata": {
        "id": "1I9789-PwuyM",
        "colab_type": "code",
        "colab": {}
      },
      "cell_type": "code",
      "source": [
        "!cat url.txt"
      ],
      "execution_count": 0,
      "outputs": []
    },
    {
      "metadata": {
        "id": "d0sjYgUX13gU",
        "colab_type": "text"
      },
      "cell_type": "markdown",
      "source": [
        "logを削除する用"
      ]
    },
    {
      "metadata": {
        "id": "euoafC5uw53K",
        "colab_type": "code",
        "colab": {}
      },
      "cell_type": "code",
      "source": [
        "!rm *.txt"
      ],
      "execution_count": 0,
      "outputs": []
    },
    {
      "metadata": {
        "id": "p9gGRDaby_B8",
        "colab_type": "code",
        "colab": {}
      },
      "cell_type": "code",
      "source": [
        "!rm -rf ./tf_logs/*/*\n",
        "!rmdir ./tf_logs/*"
      ],
      "execution_count": 0,
      "outputs": []
    },
    {
      "metadata": {
        "id": "nGsfdEp72Mbl",
        "colab_type": "text"
      },
      "cell_type": "markdown",
      "source": [
        "## Name Scope"
      ]
    }
  ]
}